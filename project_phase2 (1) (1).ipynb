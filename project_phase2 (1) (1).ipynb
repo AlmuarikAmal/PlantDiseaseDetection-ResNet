{
  "metadata": {
    "kernelspec": {
      "display_name": "Python 3",
      "name": "python3"
    },
    "language_info": {
      "name": "python",
      "version": "3.7.12",
      "mimetype": "text/x-python",
      "codemirror_mode": {
        "name": "ipython",
        "version": 3
      },
      "pygments_lexer": "ipython3",
      "nbconvert_exporter": "python",
      "file_extension": ".py"
    },
    "kaggle": {
      "accelerator": "nvidiaTeslaT4",
      "dataSources": [
        {
          "sourceId": 1105687,
          "sourceType": "datasetVersion",
          "datasetId": 619181
        }
      ],
      "dockerImageVersionId": 30236,
      "isInternetEnabled": true,
      "language": "python",
      "sourceType": "notebook",
      "isGpuEnabled": true
    },
    "colab": {
      "provenance": [],
      "gpuType": "T4"
    },
    "accelerator": "GPU"
  },
  "nbformat_minor": 0,
  "nbformat": 4,
  "cells": [
    {
      "cell_type": "markdown",
      "source": [
        "## Table of content:\n",
        "- [1. Import libraries](#lib)\n",
        "- [2. Downloading data](#data)\n",
        "- [3. Model preparation](#model)\n",
        "- [4. Training, testing](#train-test)\n",
        "- [5. Results](#res)"
      ],
      "metadata": {
        "id": "VoEAptuBzDbH"
      }
    },
    {
      "cell_type": "markdown",
      "source": [
        "<a id='lib'></a>\n",
        "### 1. Import libraries"
      ],
      "metadata": {
        "id": "af7dkbsqzDbI"
      }
    },
    {
      "cell_type": "code",
      "source": [
        "import os\n",
        "import torch\n",
        "import torchvision\n",
        "import numpy as np\n",
        "from tqdm import tqdm\n",
        "import matplotlib.pyplot as plt\n",
        "from torchvision import datasets, transforms\n",
        "from torch.utils.data import DataLoader, random_split\n",
        "from sklearn.metrics import classification_report\n",
        "from sklearn.metrics import confusion_matrix\n",
        "\n",
        "plt.style.use('seaborn-whitegrid')\n",
        "\n",
        "torch.manual_seed(0)"
      ],
      "metadata": {
        "execution": {
          "iopub.status.busy": "2024-04-06T20:51:03.353553Z",
          "iopub.execute_input": "2024-04-06T20:51:03.354583Z",
          "iopub.status.idle": "2024-04-06T20:51:05.587872Z",
          "shell.execute_reply.started": "2024-04-06T20:51:03.354477Z",
          "shell.execute_reply": "2024-04-06T20:51:05.58686Z"
        },
        "trusted": true,
        "id": "i0AYx654zDbJ"
      },
      "execution_count": null,
      "outputs": []
    },
    {
      "cell_type": "markdown",
      "source": [
        "<a id='data'></a>\n",
        "### 2. Downloading data"
      ],
      "metadata": {
        "id": "6CObLa7AzDbK"
      }
    },
    {
      "cell_type": "code",
      "source": [
        "# Define paths\n",
        "dir_path_train = '/kaggle/input/tomatoleaf/tomato/train' # change files to file saved paths\n",
        "dir_path_test = '/kaggle/input/tomatoleaf/tomato/val'\n",
        "\n",
        "\n",
        "# Define transformations\n",
        "transformer = torchvision.transforms.Compose([\n",
        "    transforms.Resize(size=(224, 224)),\n",
        "    transforms.ToTensor(),\n",
        "    transforms.RandomHorizontalFlip()\n",
        "])\n",
        "\n",
        "# Load datasets\n",
        "datafolder_train = datasets.ImageFolder(root=dir_path_train, transform=transformer)\n",
        "datafolder_test = datasets.ImageFolder(root=dir_path_test, transform=transformer)\n",
        "\n",
        "# Define proportions for the split\n",
        "train_proportion = 0.8\n",
        "val_proportion = 0.1\n",
        "\n",
        "# Calculate sizes for each split\n",
        "val_size = int(val_proportion * len(datafolder_train))\n",
        "train_size = len(datafolder_train) - val_size\n",
        "\n",
        "# Split the dataset\n",
        "train_set, val_set = random_split(datafolder_train, [train_size, val_size])\n",
        "\n",
        "# Create data loaders for train, validation, and test sets\n",
        "train_loader = DataLoader(train_set, batch_size=32, shuffle=True)\n",
        "val_loader = DataLoader(val_set, batch_size=32, shuffle=False)\n",
        "test_loader = DataLoader(datafolder_test , batch_size=32, shuffle=False)\n",
        "\n",
        "# print sizes of each set\n",
        "print('Train size:', len(train_set))\n",
        "print('Validation size:', len(val_set))\n",
        "print('test size:',len(datafolder_test))"
      ],
      "metadata": {
        "execution": {
          "iopub.status.busy": "2024-04-06T21:26:39.485642Z",
          "iopub.execute_input": "2024-04-06T21:26:39.486585Z",
          "iopub.status.idle": "2024-04-06T21:26:39.591346Z",
          "shell.execute_reply.started": "2024-04-06T21:26:39.486545Z",
          "shell.execute_reply": "2024-04-06T21:26:39.5904Z"
        },
        "trusted": true,
        "id": "8U0UweCXzDbK"
      },
      "execution_count": null,
      "outputs": []
    },
    {
      "cell_type": "code",
      "source": [
        "# a dictionary of class labels\n",
        "def getClass(label):\n",
        "    class_names = {'Tomato___Bacterial_spot': 'Bacterial Spot',\n",
        "                'Tomato___Early_blight': 'Early Blight',\n",
        "                'Tomato___Late_blight': 'Late Blight',\n",
        "                'Tomato___Leaf_Mold': 'Leaf Mold',\n",
        "                'Tomato___Septoria_leaf_spot': 'Septoria Leaf Spot',\n",
        "                'Tomato___Spider_mites Two-spotted_spider_mite': 'Spider Mites',\n",
        "                'Tomato___Target_Spot': 'Target Spot',\n",
        "                'Tomato___Tomato_Yellow_Leaf_Curl_Virus': 'Tomato Yellow Leaf Curl Virus',\n",
        "                'Tomato___Tomato_mosaic_virus': 'Tomato Mosaic Virus',\n",
        "                'Tomato___healthy': 'Healthy'\n",
        "    }\n",
        "\n",
        "    return class_names[label]\n",
        "\n",
        "# a batch of images and labels\n",
        "images, labels = next(iter(train_loader))\n",
        "\n",
        "# a grid of images\n",
        "plt.figure(figsize=(10, 10))\n",
        "for i in range(9):\n",
        "    plt.subplot(3, 3, i+1)\n",
        "    plt.imshow(images[i].permute(1,2,0))\n",
        "    plt.title(getClass(datafolder_train.classes[labels[i]]))\n",
        "    plt.axis('off')\n",
        "\n",
        "# Show the plot\n",
        "plt.show()\n"
      ],
      "metadata": {
        "execution": {
          "iopub.status.busy": "2024-04-06T20:54:32.98911Z",
          "iopub.execute_input": "2024-04-06T20:54:32.989457Z",
          "iopub.status.idle": "2024-04-06T20:54:33.8781Z",
          "shell.execute_reply.started": "2024-04-06T20:54:32.98943Z",
          "shell.execute_reply": "2024-04-06T20:54:33.877062Z"
        },
        "trusted": true,
        "id": "z6jdzmTQzDbL"
      },
      "execution_count": null,
      "outputs": []
    },
    {
      "source": [
        "class_mapping = {\n",
        "    0: 'Tomato___Bacterial_spot',\n",
        "    1: 'Tomato___Early_blight',\n",
        "    2: 'Tomato___Late_blight',\n",
        "    3: 'Tomato___Leaf_Mold',\n",
        "    4: 'Tomato___Septoria_leaf_spot',\n",
        "    5: 'Tomato___Spider_mites Two-spotted_spider_mite',\n",
        "    6: 'Tomato___Target_Spot',\n",
        "    7: 'Tomato___Tomato_Yellow_Leaf_Curl_Virus',\n",
        "    8: 'Tomato___Tomato_mosaic_virus',\n",
        "    9: 'Tomato___healthy'\n",
        "}\n",
        "class_counts = {label: 0 for label in class_labels}\n",
        "\n",
        "train_labels = []\n",
        "for images, labels in train_loader:\n",
        "  train_labels.extend(labels.tolist())\n",
        "\n",
        "val_labels = []\n",
        "for images, labels in val_loader:\n",
        "  val_labels.extend(labels.tolist())\n",
        "\n",
        "test_labels = []\n",
        "for images, labels in test_loader:\n",
        "  test_labels.extend(labels.tolist())\n",
        "\n",
        "all_labels = []\n",
        "all_labels.extend(train_labels)\n",
        "all_labels.extend(val_labels)\n",
        "all_labels.extend(test_labels)\n",
        "\n",
        "unique_labels = set(all_labels)\n",
        "print(\"Unique labels:\", unique_labels)\n",
        "\n",
        "for label in all_labels:\n",
        "    class_name = class_mapping[label]\n",
        "    class_counts[class_name] += 1\n",
        "\n",
        "# show class counts\n",
        "print(\"\\nClass Distribution:\")\n",
        "for label, count in class_counts.items():\n",
        "    print(f\"{label}: {count}\")"
      ],
      "cell_type": "code",
      "metadata": {
        "id": "RBuUBa2_IiLQ"
      },
      "execution_count": null,
      "outputs": []
    },
    {
      "cell_type": "code",
      "source": [
        "class_labels_shortened = {\n",
        "    'Tomato___Bacterial_spot': 'Bacterial spot',\n",
        "    'Tomato___Early_blight': 'Early blight',\n",
        "    'Tomato___Late_blight': 'Late blight',\n",
        "    'Tomato___Leaf_Mold': 'Leaf Mold',\n",
        "    'Tomato___Septoria_leaf_spot': 'Septoria leaf spot',\n",
        "    'Tomato___Spider_mites Two-spotted_spider_mite': 'Spider Mites',\n",
        "    'Tomato___Target_Spot': 'Target Spot',\n",
        "    'Tomato___Tomato_Yellow_Leaf_Curl_Virus': 'Yellow Leaf Curl Virus',\n",
        "    'Tomato___Tomato_mosaic_virus': 'Mosaic Virus',\n",
        "    'Tomato___healthy': 'Healthy'\n",
        "}\n",
        "\n",
        "class_counts_shortened = {class_labels_shortened[label]: count for label, count in class_counts.items()}\n",
        "\n",
        "# plot\n",
        "plt.figure(figsize=(10, 6))\n",
        "plt.barh(list(class_counts_shortened.keys()), list(class_counts_shortened.values()))\n",
        "plt.xlabel('Frequency')\n",
        "plt.ylabel('Class')\n",
        "plt.title('The Class Distribution of Tomato Leaf Disease Dataset')\n",
        "plt.gca().invert_yaxis()\n",
        "plt.show()\n"
      ],
      "metadata": {
        "id": "3Vu1Qpj2Ln8g"
      },
      "execution_count": null,
      "outputs": []
    },
    {
      "cell_type": "markdown",
      "source": [
        "<a id='model'></a>\n",
        "### 3. Model preparation"
      ],
      "metadata": {
        "id": "dgN_5AvozDbM"
      }
    },
    {
      "cell_type": "code",
      "source": [
        "numClasses = 10\n",
        "model = torchvision.models.resnet50(pretrained=True)\n",
        "\n",
        "# freezing all parameters except for the final layer, we train it\n",
        "for param in model.parameters():\n",
        "    param.requires_grad = False\n",
        "\n",
        "model.fc = torch.nn.Linear(model.fc.in_features, numClasses)"
      ],
      "metadata": {
        "execution": {
          "iopub.status.busy": "2024-04-06T20:54:41.938346Z",
          "iopub.execute_input": "2024-04-06T20:54:41.938699Z",
          "iopub.status.idle": "2024-04-06T20:54:42.819091Z",
          "shell.execute_reply.started": "2024-04-06T20:54:41.938669Z",
          "shell.execute_reply": "2024-04-06T20:54:42.818185Z"
        },
        "trusted": true,
        "id": "xYW2xw6PzDbM"
      },
      "execution_count": null,
      "outputs": []
    },
    {
      "cell_type": "code",
      "source": [
        "model"
      ],
      "metadata": {
        "execution": {
          "iopub.status.busy": "2024-04-06T20:54:44.778513Z",
          "iopub.execute_input": "2024-04-06T20:54:44.779253Z",
          "iopub.status.idle": "2024-04-06T20:54:44.786793Z",
          "shell.execute_reply.started": "2024-04-06T20:54:44.779215Z",
          "shell.execute_reply": "2024-04-06T20:54:44.785632Z"
        },
        "trusted": true,
        "id": "mUEL1XS1zDbM"
      },
      "execution_count": null,
      "outputs": []
    },
    {
      "cell_type": "markdown",
      "source": [
        "<a id='train-test'></a>\n",
        "### 4. Training, testing"
      ],
      "metadata": {
        "id": "RZy32I5HzDbM"
      }
    },
    {
      "cell_type": "code",
      "source": [
        "device = 'cuda' if torch.cuda.is_available() else 'cpu'\n",
        "model.to(device)\n",
        "num_epochs = 10\n",
        "loss_fn = torch.nn.CrossEntropyLoss()\n",
        "optimizer = torch.optim.Adam(model.parameters(), lr=0.01)"
      ],
      "metadata": {
        "execution": {
          "iopub.status.busy": "2024-04-06T20:54:48.590451Z",
          "iopub.execute_input": "2024-04-06T20:54:48.590848Z",
          "iopub.status.idle": "2024-04-06T20:54:52.304352Z",
          "shell.execute_reply.started": "2024-04-06T20:54:48.590812Z",
          "shell.execute_reply": "2024-04-06T20:54:52.303425Z"
        },
        "trusted": true,
        "id": "8zu2oZ5SzDbN"
      },
      "execution_count": null,
      "outputs": []
    },
    {
      "cell_type": "code",
      "source": [
        "# Training loop\n",
        "train_losses = []\n",
        "train_accuracies = []\n",
        "val_losses = []\n",
        "val_accuracies = []\n",
        "\n",
        "for epoch in tqdm(range(num_epochs)):\n",
        "\n",
        "        # Training mode\n",
        "        model.train()\n",
        "        running_loss = 0.0\n",
        "        correct_train = 0\n",
        "        total_train = 0\n",
        "\n",
        "        for images, labels in train_loader:\n",
        "\n",
        "            images = images.to(device)\n",
        "            labels = labels.to(device)\n",
        "\n",
        "            optimizer.zero_grad()\n",
        "\n",
        "            outputs = model(images)\n",
        "            loss = loss_fn(outputs, labels)\n",
        "\n",
        "            loss.backward()\n",
        "            optimizer.step()\n",
        "\n",
        "            running_loss += loss.item()\n",
        "            _, predicted = torch.max(outputs.data, 1)\n",
        "            total_train += labels.size(0)\n",
        "            correct_train += (predicted == labels).sum().item()\n",
        "\n",
        "        train_loss = running_loss / len(train_loader)\n",
        "        train_accuracy = correct_train / total_train\n",
        "        train_losses.append(train_loss)\n",
        "        train_accuracies.append(train_accuracy)\n",
        "\n",
        "        print(f\"\\nTrain accuracy {train_loss:.4f}, Train loss {train_accuracy:.4f}\")\n",
        "\n",
        "        # Validation mode\n",
        "        model.eval()\n",
        "        val_loss = 0.0\n",
        "        correct_val = 0\n",
        "        total_val = 0\n",
        "\n",
        "        with torch.no_grad():\n",
        "\n",
        "            for images, labels in val_loader:\n",
        "\n",
        "                images = images.to(device)\n",
        "                labels = labels.to(device)\n",
        "\n",
        "                outputs = model(images)\n",
        "                loss = loss_fn(outputs, labels)\n",
        "\n",
        "                val_loss += loss.item()\n",
        "                _, predicted = torch.max(outputs.data, 1)\n",
        "                total_val += labels.size(0)\n",
        "                correct_val += (predicted == labels).sum().item()\n",
        "\n",
        "        val_loss /= len(val_loader)\n",
        "        val_accuracy = correct_val / total_val\n",
        "        val_losses.append(val_loss)\n",
        "        val_accuracies.append(val_accuracy)\n",
        "\n",
        "        print(f\"\\nValidation accuracy {val_accuracy:.4f}, Validation loss {val_loss:.4f}\")"
      ],
      "metadata": {
        "execution": {
          "iopub.status.busy": "2024-04-06T20:55:38.125974Z",
          "iopub.execute_input": "2024-04-06T20:55:38.127043Z",
          "iopub.status.idle": "2024-04-06T21:06:41.75679Z",
          "shell.execute_reply.started": "2024-04-06T20:55:38.126999Z",
          "shell.execute_reply": "2024-04-06T21:06:41.75573Z"
        },
        "trusted": true,
        "id": "6RH-PsLbzDbN"
      },
      "execution_count": null,
      "outputs": []
    },
    {
      "cell_type": "code",
      "source": [
        "model.eval()\n",
        "all_predicted = []\n",
        "all_labels = []\n",
        "\n",
        "for images, labels in test_loader:\n",
        "    images = images.to(device)\n",
        "    labels = labels.to(device)\n",
        "\n",
        "    y_pred_test = model(images)\n",
        "    _, predicted = torch.max(y_pred_test, 1)\n",
        "\n",
        "    all_predicted.extend(predicted.cpu().numpy())\n",
        "    all_labels.extend(labels.cpu().numpy())\n",
        "\n",
        "print(classification_report(all_labels, all_predicted))"
      ],
      "metadata": {
        "execution": {
          "iopub.status.busy": "2024-04-06T21:20:14.381741Z",
          "iopub.execute_input": "2024-04-06T21:20:14.38266Z",
          "iopub.status.idle": "2024-04-06T21:20:24.80983Z",
          "shell.execute_reply.started": "2024-04-06T21:20:14.382622Z",
          "shell.execute_reply": "2024-04-06T21:20:24.80884Z"
        },
        "trusted": true,
        "id": "Vq55ekxezDbN"
      },
      "execution_count": null,
      "outputs": []
    },
    {
      "cell_type": "markdown",
      "source": [
        "<a id='res'></a>\n",
        "### 5. Results"
      ],
      "metadata": {
        "id": "1B3d0qoYzDbN"
      }
    },
    {
      "cell_type": "code",
      "source": [
        "fig, ax = plt.subplots(1, 2, figsize=(20, 6))\n",
        "ax[0].plot(train_accuracies, '-*', label='Train')\n",
        "ax[0].plot(val_accuracies, '-*', label='Test')\n",
        "ax[0].set_title('Accuracy Score Plot')\n",
        "ax[0].set_xticks(range(0, 3*num_epochs+1, 3), range(0, num_epochs+1))\n",
        "ax[0].set_xlabel('Epoch')\n",
        "ax[0].set_ylabel('Accuracy')\n",
        "ax[0].legend()\n",
        "\n",
        "ax[1].plot(train_losses, '-o', label='Train');\n",
        "ax[1].plot(val_losses, '-o', label='Test');\n",
        "ax[1].set_title('Loss Plot')\n",
        "ax[1].set_xticks(range(0, 3*num_epochs+1,3), range(0, num_epochs+1))\n",
        "ax[1].set_xlabel('Epoch')\n",
        "ax[1].set_ylabel('Loss Function Value')\n",
        "ax[1].legend();"
      ],
      "metadata": {
        "execution": {
          "iopub.status.busy": "2024-04-06T21:20:49.964949Z",
          "iopub.execute_input": "2024-04-06T21:20:49.965353Z",
          "iopub.status.idle": "2024-04-06T21:20:50.392355Z",
          "shell.execute_reply.started": "2024-04-06T21:20:49.965319Z",
          "shell.execute_reply": "2024-04-06T21:20:50.391386Z"
        },
        "trusted": true,
        "id": "-qa7FKHkzDbN"
      },
      "execution_count": null,
      "outputs": []
    },
    {
      "cell_type": "code",
      "source": [
        "print(train_accuracies)\n"
      ],
      "metadata": {
        "id": "s0XZWJrUzDbO"
      },
      "execution_count": null,
      "outputs": []
    },
    {
      "cell_type": "code",
      "source": [
        "print(val_accuracies)"
      ],
      "metadata": {
        "id": "0to-aQcc8hrY"
      },
      "execution_count": null,
      "outputs": []
    },
    {
      "cell_type": "code",
      "source": [
        "print(train_losses)"
      ],
      "metadata": {
        "id": "pCoiQuLS8jtC"
      },
      "execution_count": null,
      "outputs": []
    },
    {
      "cell_type": "code",
      "source": [
        "print(val_losses)"
      ],
      "metadata": {
        "id": "-ZHTk9nh8nfx"
      },
      "execution_count": null,
      "outputs": []
    },
    {
      "cell_type": "code",
      "source": [
        "torch.save(model.state_dict(), \"Tomato_disease_model_lr_0.01-r.pth\")"
      ],
      "metadata": {
        "id": "FSfgYle78qZB"
      },
      "execution_count": null,
      "outputs": []
    }
  ]
}